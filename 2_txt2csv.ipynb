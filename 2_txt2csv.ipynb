{
  "nbformat": 4,
  "nbformat_minor": 0,
  "metadata": {
    "colab": {
      "provenance": [],
      "authorship_tag": "ABX9TyNBoHAId9n2utRC3IHZdmIu",
      "include_colab_link": true
    },
    "kernelspec": {
      "name": "python3",
      "display_name": "Python 3"
    },
    "language_info": {
      "name": "python"
    }
  },
  "cells": [
    {
      "cell_type": "markdown",
      "metadata": {
        "id": "view-in-github",
        "colab_type": "text"
      },
      "source": [
        "<a href=\"https://colab.research.google.com/github/ms624atyale/PictureBook_Project_Demo/blob/main/2_txt2csv.ipynb\" target=\"_parent\"><img src=\"https://colab.research.google.com/assets/colab-badge.svg\" alt=\"Open In Colab\"/></a>"
      ]
    },
    {
      "cell_type": "markdown",
      "source": [
        "## **📕 Children's Picture Books**\n",
        " - #### Project Gutenberg\n",
        "- #### Two creators (Beatrix Potter with 6 volums & Leslie Brooke with 4 volums), a total of 10 volums\n",
        "\n",
        "### <font color = 'red'> **Original script for MK316's 📃 KSAT data process (as of 1005)**"
      ],
      "metadata": {
        "id": "w-c314VERd4P"
      }
    },
    {
      "cell_type": "markdown",
      "source": [
        "###🐹🐾 **1️⃣ Pandas Library**"
      ],
      "metadata": {
        "id": "CBjBFKTsRrVM"
      }
    },
    {
      "cell_type": "code",
      "execution_count": null,
      "metadata": {
        "id": "tcaFSi3cP_JJ"
      },
      "outputs": [],
      "source": [
        "!pip install pandas\n",
        "!pip install lexical_diversity\n",
        "import pandas as pd #Import Pandas Package\n",
        "import lexical_diversity as ld"
      ]
    },
    {
      "cell_type": "markdown",
      "source": [
        "###🐹🐾 **2️⃣ Clone a repository on your github (Beware that the following code uses your instructor's github repository 🍎🍎🍎🍎🍎**"
      ],
      "metadata": {
        "id": "LUF15ab3R1a-"
      }
    },
    {
      "cell_type": "code",
      "source": [
        "!git clone https://github.com/ms624atyale/PictureBook_Project_Demo"
      ],
      "metadata": {
        "id": "trFWyiPGRclG"
      },
      "execution_count": null,
      "outputs": []
    },
    {
      "cell_type": "markdown",
      "source": [
        "###🐹🐾 **3️⃣ Set your currant directory of your data folder where your txt file(s) are saved**\n",
        "\n",
        "- convert your txt file to matrix using DataFrame( ) class\n",
        "- set your current directory using %cd\n",
        "- save your data with DataFrame configure to csv(comma separated values)"
      ],
      "metadata": {
        "id": "--IeN8FFSDrm"
      }
    },
    {
      "cell_type": "markdown",
      "source": [
        "#💊 <font color = 'green'> **Avoid overlapping indecies**"
      ],
      "metadata": {
        "id": "x9_M3AaNapQ9"
      }
    },
    {
      "cell_type": "code",
      "source": [
        "import pandas as pd\n",
        "import glob\n",
        "\n",
        "# Change directory\n",
        "%cd /content/PictureBook_Project_Demo/Data_Clean\n",
        "\n",
        "# Load all .txt files\n",
        "fns = glob.glob('*.txt')\n",
        "\n",
        "# List to hold each temporary DataFrame\n",
        "df_list = []\n",
        "\n",
        "# Load each file and append to list\n",
        "for fn in fns:\n",
        "    dftmp = pd.read_csv(fn, sep='@')\n",
        "    df_list.append(dftmp)\n",
        "\n",
        "# Concatenate all and reset index\n",
        "df = pd.concat(df_list, ignore_index=True)\n",
        "\n",
        "# Go back to main directory\n",
        "%cd /content/PictureBook_Project_Demo/Data_Frame\n",
        "\n",
        "# Save as CSV\n",
        "df.to_csv(\"./pg_2creators_each_text.csv\", index=False)\n",
        "\n",
        "# Display the DataFrame\n",
        "print(df)"
      ],
      "metadata": {
        "id": "yC6Yd8pJaTQM"
      },
      "execution_count": null,
      "outputs": []
    },
    {
      "cell_type": "markdown",
      "source": [
        "###🐹🐾 **4️⃣ Dlownload .csv file(s) created under the Data_Frame folder to the relevant directory (e.g., Data_Frame) of your github account**"
      ],
      "metadata": {
        "id": "9t8iPOJmbNzA"
      }
    }
  ]
}