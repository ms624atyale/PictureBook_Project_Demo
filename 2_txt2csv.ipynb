{
  "nbformat": 4,
  "nbformat_minor": 0,
  "metadata": {
    "colab": {
      "provenance": [],
      "authorship_tag": "ABX9TyONIdL5AAeZKGUU+NGQO9dT",
      "include_colab_link": true
    },
    "kernelspec": {
      "name": "python3",
      "display_name": "Python 3"
    },
    "language_info": {
      "name": "python"
    }
  },
  "cells": [
    {
      "cell_type": "markdown",
      "metadata": {
        "id": "view-in-github",
        "colab_type": "text"
      },
      "source": [
        "<a href=\"https://colab.research.google.com/github/ms624atyale/PictureBook_Project_Demo/blob/main/2_txt2csv.ipynb\" target=\"_parent\"><img src=\"https://colab.research.google.com/assets/colab-badge.svg\" alt=\"Open In Colab\"/></a>"
      ]
    },
    {
      "cell_type": "markdown",
      "source": [
        "## **📕 Children's Picture Books**\n",
        " - #### Project Gutenberg\n",
        "- #### Two creators (Beatrix Potter with 6 volums & Leslie Brooke with 4 volums), a total of 10 volums\n",
        "\n",
        "### <font color = 'red'> **Original script for MK316's 📃 KSAT data process (as of 1005)**"
      ],
      "metadata": {
        "id": "w-c314VERd4P"
      }
    },
    {
      "cell_type": "markdown",
      "source": [
        "###🐹🐾 **1️⃣ Pandas Library**"
      ],
      "metadata": {
        "id": "CBjBFKTsRrVM"
      }
    },
    {
      "cell_type": "code",
      "execution_count": null,
      "metadata": {
        "id": "tcaFSi3cP_JJ",
        "colab": {
          "base_uri": "https://localhost:8080/"
        },
        "outputId": "a2b6f88d-4940-49db-d1ea-5eb76d33c6a1"
      },
      "outputs": [
        {
          "output_type": "stream",
          "name": "stdout",
          "text": [
            "Requirement already satisfied: pandas in /usr/local/lib/python3.11/dist-packages (2.2.2)\n",
            "Requirement already satisfied: numpy>=1.23.2 in /usr/local/lib/python3.11/dist-packages (from pandas) (2.0.2)\n",
            "Requirement already satisfied: python-dateutil>=2.8.2 in /usr/local/lib/python3.11/dist-packages (from pandas) (2.9.0.post0)\n",
            "Requirement already satisfied: pytz>=2020.1 in /usr/local/lib/python3.11/dist-packages (from pandas) (2025.2)\n",
            "Requirement already satisfied: tzdata>=2022.7 in /usr/local/lib/python3.11/dist-packages (from pandas) (2025.2)\n",
            "Requirement already satisfied: six>=1.5 in /usr/local/lib/python3.11/dist-packages (from python-dateutil>=2.8.2->pandas) (1.17.0)\n",
            "Collecting lexical_diversity\n",
            "  Downloading lexical_diversity-0.1.1-py3-none-any.whl.metadata (4.1 kB)\n",
            "Downloading lexical_diversity-0.1.1-py3-none-any.whl (117 kB)\n",
            "\u001b[2K   \u001b[90m━━━━━━━━━━━━━━━━━━━━━━━━━━━━━━━━━━━━━━━━\u001b[0m \u001b[32m117.8/117.8 kB\u001b[0m \u001b[31m3.5 MB/s\u001b[0m eta \u001b[36m0:00:00\u001b[0m\n",
            "\u001b[?25hInstalling collected packages: lexical_diversity\n",
            "Successfully installed lexical_diversity-0.1.1\n"
          ]
        }
      ],
      "source": [
        "!pip install pandas\n",
        "!pip install lexical_diversity\n",
        "import pandas as pd #Import Pandas Package\n",
        "import lexical_diversity as ld"
      ]
    },
    {
      "cell_type": "markdown",
      "source": [
        "###🐹🐾 **2️⃣ Clone a repository on your github (Beware that the following code uses your instructor's github repository 🍎🍎🍎🍎🍎**"
      ],
      "metadata": {
        "id": "LUF15ab3R1a-"
      }
    },
    {
      "cell_type": "code",
      "source": [
        "!git clone https://github.com/ms624atyale/PictureBook_Project_Demo"
      ],
      "metadata": {
        "id": "trFWyiPGRclG",
        "colab": {
          "base_uri": "https://localhost:8080/"
        },
        "outputId": "939d0cc1-3d94-4ba3-ce51-35ddc2c8eb5d"
      },
      "execution_count": null,
      "outputs": [
        {
          "output_type": "stream",
          "name": "stdout",
          "text": [
            "Cloning into 'PictureBook_Project_Demo'...\n",
            "remote: Enumerating objects: 175, done.\u001b[K\n",
            "remote: Counting objects: 100% (175/175), done.\u001b[K\n",
            "remote: Compressing objects: 100% (172/172), done.\u001b[K\n",
            "remote: Total 175 (delta 88), reused 0 (delta 0), pack-reused 0 (from 0)\u001b[K\n",
            "Receiving objects: 100% (175/175), 165.75 KiB | 2.15 MiB/s, done.\n",
            "Resolving deltas: 100% (88/88), done.\n"
          ]
        }
      ]
    },
    {
      "cell_type": "markdown",
      "source": [
        "###🐹🐾 **3️⃣ Set your currant directory of your data folder where your txt file(s) are saved**\n",
        "\n",
        "- convert your txt file to matrix using DataFrame( ) class\n",
        "- set your current directory using %cd\n",
        "- save your data with DataFrame configure to csv(comma separated values)"
      ],
      "metadata": {
        "id": "--IeN8FFSDrm"
      }
    },
    {
      "cell_type": "markdown",
      "source": [
        "#💊 <font color = 'green'> **Avoid overlapping indecies**"
      ],
      "metadata": {
        "id": "x9_M3AaNapQ9"
      }
    },
    {
      "cell_type": "code",
      "source": [
        "import pandas as pd\n",
        "import glob\n",
        "\n",
        "# Change directory\n",
        "%cd /content/PictureBook_Project_Demo/Data_Frame\n",
        "\n",
        "# Load all .txt files\n",
        "fns = glob.glob('*.txt')\n",
        "\n",
        "# List to hold each temporary DataFrame\n",
        "df_list = []\n",
        "\n",
        "# Load each file and append to list\n",
        "for fn in fns:\n",
        "    dftmp = pd.read_csv(fn, sep='@')\n",
        "    df_list.append(dftmp)\n",
        "\n",
        "# Concatenate all and reset index\n",
        "df = pd.concat(df_list, ignore_index=True)\n",
        "\n",
        "# Go back to main directory\n",
        "%cd /content/PictureBook_Project_Demo/Data_Frame\n",
        "\n",
        "# Save as CSV\n",
        "df.to_csv(\"./pg_2creators_each_text.csv\", index=False)\n",
        "\n",
        "# Display the DataFrame\n",
        "print(df)"
      ],
      "metadata": {
        "id": "yC6Yd8pJaTQM",
        "colab": {
          "base_uri": "https://localhost:8080/"
        },
        "outputId": "814fff07-2c93-464a-ef37-e6394cfa9f8a"
      },
      "execution_count": null,
      "outputs": [
        {
          "output_type": "stream",
          "name": "stdout",
          "text": [
            "/content/PictureBook_Project_Demo/Data_Frame\n",
            "/content/PictureBook_Project_Demo/Data_Frame\n",
            "                                                text  \\\n",
            "0  one morning a little rabbit sat on a bank.  he...   \n",
            "1  a farmyard tale     for     ralph and betsy   ...   \n",
            "2  once upon a time there was a little girl calle...   \n",
            "3  once upon a time there were four little rabbit...   \n",
            "4  this is a tale about a tail--a tail that belon...   \n",
            "5  once upon a time there were three little kitte...   \n",
            "6  a carrion crow sat on an oak   fol de riddle l...   \n",
            "7  the golden goose there was once a man who had ...   \n",
            "8  johnny crow would dig and sow  till he made a ...   \n",
            "9  the man in the moon             the man in the...   \n",
            "\n",
            "                               title          creator    creator       \n",
            "0         the tale of benjamin bunny   beatrix potter             NaN  \n",
            "1     the tale of jemima puddle-duck   beatrix potter             NaN  \n",
            "2      the tale of mrs. tiggy-winkle  beatrix potter              NaN  \n",
            "3  red riding hood and other stories   beatrix potter             NaN  \n",
            "4        the tale of squirrel nutkin  beatrix potter              NaN  \n",
            "5             the tale of tom kitten   beatrix potter             NaN  \n",
            "6            the tailor and the crow              NaN  leslie brooke   \n",
            "7                   the golden goose              NaN  leslie brooke   \n",
            "8               johnny crow's garden              NaN   leslie brooke  \n",
            "9                    a nursery rhyme              NaN   leslie brooke  \n"
          ]
        }
      ]
    },
    {
      "cell_type": "markdown",
      "source": [
        "###🐹🐾 **4️⃣ Dlownload .csv file(s) created under the Data_Frame folder to the relevant directory (e.g., Data_Frame) of your github account**"
      ],
      "metadata": {
        "id": "9t8iPOJmbNzA"
      }
    }
  ]
}